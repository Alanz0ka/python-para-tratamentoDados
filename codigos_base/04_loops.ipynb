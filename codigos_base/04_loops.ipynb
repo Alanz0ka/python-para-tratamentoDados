{
 "cells": [
  {
   "cell_type": "markdown",
   "metadata": {},
   "source": [
    "## **Python Essencial para Data Science**\n",
    "**Prof. Dr. Samuel Martins (@hisamuka @xavecoding)** <br/>\n",
    "xavecoding: https://youtube.com/c/xavecoding <br/><br/>\n",
    "\n",
    "<a rel=\"license\" href=\"http://creativecommons.org/licenses/by-nc-sa/4.0/\"><img alt=\"Creative Commons License\" style=\"border-width:0\" src=\"https://i.creativecommons.org/l/by-nc-sa/4.0/88x31.png\" /></a><br />This work is licensed under a <a rel=\"license\" href=\"http://creativecommons.org/licenses/by-nc-sa/4.0/\">Creative Commons Attribution-NonCommercial-ShareAlike 4.0 International License</a>."
   ]
  },
  {
   "cell_type": "markdown",
   "metadata": {},
   "source": [
    "## Loops\n",
    "Antes de definirmos os *laços de repetição em Python (loops)*, vamos ver como definimos intervalos no Python:"
   ]
  },
  {
   "cell_type": "markdown",
   "metadata": {},
   "source": [
    "### Gerando intervalos com `range()`\n",
    "Um dos exemplos mais comuns de loops é iterar para um dado **intervalo de valores**.\n",
    "\n",
    "Suponha que desejamos codificar um loop que itere de 0 até n-1, onde o parâmetro *n* é definido pelo usuários. <br/>\n",
    "Em linguagem C, teríamos algo como:\n",
    "<code>\n",
    "for (int i = 0; i < n; i++) {\n",
    "    ...\n",
    "}\n",
    "</code>\n",
    "    \n",
    "Em *Python*, podemos gerar intervalos de valores muito mais fácil, apenas utilizando o comando `range()`, que possui a assinatura: <br/>\n",
    "`range(start, end, step)`."
   ]
  },
  {
   "cell_type": "markdown",
   "metadata": {},
   "source": [
    "#### Entendendo os índices de um Intervalo\n",
    "Um intervalo em python sempre **inclui** o número passado como **limite inferior** e *exclui* o número do *limite superior* do intervalo.\n",
    "\n",
    "P. ex., o intervalo definido pelos números `10 15` corresponde, na verdade, ao intervalo [10, 15), ou seja, [10, 11, 12, 13, 14]"
   ]
  },
  {
   "cell_type": "markdown",
   "metadata": {},
   "source": [
    "#### Gerando um intervalo de 0..n-1\n",
    "Se passarmos apenas **um valor/parâmetro** para a função `range()`, a mesma retorna um intervalor de 0 até o valor -1."
   ]
  },
  {
   "cell_type": "code",
   "execution_count": null,
   "metadata": {},
   "outputs": [],
   "source": []
  },
  {
   "cell_type": "markdown",
   "metadata": {},
   "source": [
    "Note que o retorno é um `range(0, 10)`. Internamente, este tipo é uma _lista_ contendo todos os números do intervalo. <br/>\n",
    "Para termos acesso a tal lista explicitamente, precisamos converter o range em uma **`list`**:"
   ]
  },
  {
   "cell_type": "code",
   "execution_count": null,
   "metadata": {},
   "outputs": [],
   "source": []
  },
  {
   "cell_type": "markdown",
   "metadata": {},
   "source": [
    "#### Gerando um intervalo de Inicio até Fim-1\n",
    "Podemos querer alterar o valor **inicial** do intervalo, que é 0 por padrão. Para isso, devemos passar 2 parâmetros para o `range()`, sendo o primeiro deles o limite inferior (incluso) do intervalo (_lower bound_) e o segundo é o limite superior (excluso) do intevarlo (_upper bound_):"
   ]
  },
  {
   "cell_type": "code",
   "execution_count": null,
   "metadata": {},
   "outputs": [],
   "source": []
  },
  {
   "cell_type": "code",
   "execution_count": null,
   "metadata": {},
   "outputs": [],
   "source": []
  },
  {
   "cell_type": "markdown",
   "metadata": {},
   "source": [
    "#### Especificando o passo do intervalo\n",
    "Por padrão, os intervalos fornecem números sequenciais, ou seja, com **passo/incremento** igual a 1. <br/>\n",
    "Podemos alterar tal **passo**. Para isso, basta passarmos um terceiro parâmetro no `range()`"
   ]
  },
  {
   "cell_type": "code",
   "execution_count": null,
   "metadata": {},
   "outputs": [],
   "source": []
  },
  {
   "cell_type": "code",
   "execution_count": null,
   "metadata": {},
   "outputs": [],
   "source": []
  },
  {
   "cell_type": "markdown",
   "metadata": {},
   "source": [
    "### `for`\n",
    "O esqueleto de um for-loop é:\n",
    "<code>\n",
    "for i in collection:\n",
    "    Instruction 01\n",
    "    Instruction 02\n",
    "    ...\n",
    "</code><br/>\n",
    "\n",
    "onde _collection_ é uma coleção de valores que será iterado. <br/>\n",
    "No esqueleto acima, a cada iteração, a variável `i` terá um valor da _collection_. \n",
    "\n",
    "A _collection_ pode ser, por exemplo, um `range()` ou uma `list`:"
   ]
  },
  {
   "cell_type": "code",
   "execution_count": null,
   "metadata": {},
   "outputs": [],
   "source": []
  },
  {
   "cell_type": "code",
   "execution_count": null,
   "metadata": {},
   "outputs": [],
   "source": []
  },
  {
   "cell_type": "code",
   "execution_count": null,
   "metadata": {},
   "outputs": [],
   "source": []
  },
  {
   "cell_type": "code",
   "execution_count": null,
   "metadata": {},
   "outputs": [],
   "source": []
  },
  {
   "cell_type": "markdown",
   "metadata": {},
   "source": [
    "### While\n",
    "<code>\n",
    "while condition:\n",
    "    Instruction 01\n",
    "    Instruction 02\n",
    "    ...\n",
    "</code>"
   ]
  },
  {
   "cell_type": "code",
   "execution_count": null,
   "metadata": {},
   "outputs": [],
   "source": []
  },
  {
   "cell_type": "code",
   "execution_count": null,
   "metadata": {},
   "outputs": [],
   "source": []
  }
 ],
 "metadata": {
  "kernelspec": {
   "display_name": "Python 3",
   "language": "python",
   "name": "python3"
  },
  "language_info": {
   "codemirror_mode": {
    "name": "ipython",
    "version": 3
   },
   "file_extension": ".py",
   "mimetype": "text/x-python",
   "name": "python",
   "nbconvert_exporter": "python",
   "pygments_lexer": "ipython3",
   "version": "3.9.0"
  }
 },
 "nbformat": 4,
 "nbformat_minor": 4
}
